{
  "cells": [
    {
      "cell_type": "markdown",
      "metadata": {
        "id": "view-in-github",
        "colab_type": "text"
      },
      "source": [
        "<a href=\"https://colab.research.google.com/github/Challengeweek-AI-BK-AUTO/NgVTruong-challenge-AI2526/blob/main/python_challenge_week.ipynb\" target=\"_parent\"><img src=\"https://colab.research.google.com/assets/colab-badge.svg\" alt=\"Open In Colab\"/></a>"
      ]
    },
    {
      "cell_type": "markdown",
      "id": "80eec36f",
      "metadata": {
        "id": "80eec36f"
      },
      "source": [
        "# Python Challenge Week\n",
        "Chào mừng bạn đến với tuần thử thách! Notebook này dẫn bạn đi từ kiến thức nền tảng tới dự án dữ liệu hoàn chỉnh. Hãy đọc kỹ phần mô tả, chạy các ví dụ và hoàn thành thử thách cuối mỗi module."
      ]
    },
    {
      "cell_type": "markdown",
      "id": "bd57068b",
      "metadata": {
        "id": "bd57068b"
      },
      "source": [
        "## Hướng dẫn sử dụng\n",
        "1. Đọc phần 📖 Giải thích để nắm khái niệm.\n",
        "2. Chạy các cell 💻 Ví dụ để quan sát kết quả.\n",
        "3. Nghiên cứu ⚠️ Common Mistakes và 💡 Pythonic Way để tránh lỗi.\n",
        "4. Hoàn thành 🎯 Thử thách bằng cách viết mã ở các cell TODO.\n",
        "5. Ở cuối notebook, chọn một dự án để thực hành tổng hợp kỹ năng."
      ]
    },
    {
      "cell_type": "markdown",
      "id": "c15a09d2",
      "metadata": {
        "id": "c15a09d2"
      },
      "source": [
        "## Phần Setup\n",
        "Chúng ta sẽ cài đặt các thư viện cần thiết và kiểm tra môi trường."
      ]
    },
    {
      "cell_type": "markdown",
      "id": "de67f094",
      "metadata": {
        "id": "de67f094"
      },
      "source": [
        "### Thông tin cơ bản\n",
        "Họ và tên:Nguyễn Văn Trường\n",
        "MSSV:202420660\n",
        "Link conservation AI: [bấm vào đây](https://chatgpt.com/share/68eb6bf3-bbbc-8008-ae06-73ecde2f05da)"
      ]
    },
    {
      "cell_type": "markdown",
      "id": "ced1c1be",
      "metadata": {
        "id": "ced1c1be"
      },
      "source": [
        "### Cài đặt thư viện\n",
        "Nếu bạn đang dùng môi trường ảo, hãy đảm bảo đã kích hoạt trước khi cài đặt."
      ]
    },
    {
      "cell_type": "code",
      "execution_count": null,
      "id": "3259f264",
      "metadata": {
        "id": "3259f264",
        "outputId": "0f6f08e2-d259-43e7-fc38-d1bf52fd067c",
        "colab": {
          "base_uri": "https://localhost:8080/"
        }
      },
      "outputs": [
        {
          "output_type": "stream",
          "name": "stdout",
          "text": [
            "Requirement already satisfied: numpy in /usr/local/lib/python3.12/dist-packages (2.0.2)\n",
            "Requirement already satisfied: matplotlib in /usr/local/lib/python3.12/dist-packages (3.10.0)\n",
            "Requirement already satisfied: contourpy>=1.0.1 in /usr/local/lib/python3.12/dist-packages (from matplotlib) (1.3.3)\n",
            "Requirement already satisfied: cycler>=0.10 in /usr/local/lib/python3.12/dist-packages (from matplotlib) (0.12.1)\n",
            "Requirement already satisfied: fonttools>=4.22.0 in /usr/local/lib/python3.12/dist-packages (from matplotlib) (4.60.1)\n",
            "Requirement already satisfied: kiwisolver>=1.3.1 in /usr/local/lib/python3.12/dist-packages (from matplotlib) (1.4.9)\n",
            "Requirement already satisfied: packaging>=20.0 in /usr/local/lib/python3.12/dist-packages (from matplotlib) (25.0)\n",
            "Requirement already satisfied: pillow>=8 in /usr/local/lib/python3.12/dist-packages (from matplotlib) (11.3.0)\n",
            "Requirement already satisfied: pyparsing>=2.3.1 in /usr/local/lib/python3.12/dist-packages (from matplotlib) (3.2.5)\n",
            "Requirement already satisfied: python-dateutil>=2.7 in /usr/local/lib/python3.12/dist-packages (from matplotlib) (2.9.0.post0)\n",
            "Requirement already satisfied: six>=1.5 in /usr/local/lib/python3.12/dist-packages (from python-dateutil>=2.7->matplotlib) (1.17.0)\n",
            "Requirement already satisfied: pandas in /usr/local/lib/python3.12/dist-packages (2.2.2)\n",
            "Requirement already satisfied: numpy>=1.26.0 in /usr/local/lib/python3.12/dist-packages (from pandas) (2.0.2)\n",
            "Requirement already satisfied: python-dateutil>=2.8.2 in /usr/local/lib/python3.12/dist-packages (from pandas) (2.9.0.post0)\n",
            "Requirement already satisfied: pytz>=2020.1 in /usr/local/lib/python3.12/dist-packages (from pandas) (2025.2)\n",
            "Requirement already satisfied: tzdata>=2022.7 in /usr/local/lib/python3.12/dist-packages (from pandas) (2025.2)\n",
            "Requirement already satisfied: six>=1.5 in /usr/local/lib/python3.12/dist-packages (from python-dateutil>=2.8.2->pandas) (1.17.0)\n"
          ]
        }
      ],
      "source": [
        "# Cài đặt numpy và matplotlib (chạy một lần)\n",
        "%pip install numpy matplotlib\n",
        "%pip install pandas\n"
      ]
    },
    {
      "cell_type": "markdown",
      "id": "396b46d4",
      "metadata": {
        "id": "396b46d4"
      },
      "source": [
        "### Kiểm tra import\n",
        "Chạy cell dưới để chắc chắn thư viện đã sẵn sàng."
      ]
    },
    {
      "cell_type": "code",
      "execution_count": null,
      "id": "4a974b0c",
      "metadata": {
        "id": "4a974b0c",
        "outputId": "d1a8398a-7d97-42e8-e28f-a5e984ec00d2",
        "colab": {
          "base_uri": "https://localhost:8080/"
        }
      },
      "outputs": [
        {
          "output_type": "stream",
          "name": "stdout",
          "text": [
            "Thư viện đã sẵn sàng!\n"
          ]
        }
      ],
      "source": [
        "import math\n",
        "import statistics as stats\n",
        "import numpy as np\n",
        "import matplotlib.pyplot as plt\n",
        "\n",
        "print(\"Thư viện đã sẵn sàng!\")"
      ]
    },
    {
      "cell_type": "markdown",
      "id": "379eb267",
      "metadata": {
        "id": "379eb267"
      },
      "source": [
        "## Phần 1: Python Essentials"
      ]
    },
    {
      "cell_type": "markdown",
      "id": "07ecbe18",
      "metadata": {
        "id": "07ecbe18"
      },
      "source": [
        "### Module 1: Basic Syntax & Data Types\n",
        "#### 📖 Giải thích\n",
        "- Các kiểu dữ liệu cơ bản: `int`, `float`, `str`, `bool`.\n",
        "- Ép kiểu bằng `int()`, `float()`, `str()`, `bool()`.\n",
        "#### ⚠️ Common Mistakes\n",
        "- Cộng chuỗi với số: `\"5\" + 2` gây `TypeError`.\n",
        "#### 💡 Pythonic Way\n",
        "- Ưu tiên f-string (`f\"...{value}...\"`) thay vì `%` formatting.\n",
        "#### 🎯 Thử thách\n",
        "- Viết chương trình nhận cân nặng (kg), chiều cao (m), tính BMI và phân loại."
      ]
    },
    {
      "cell_type": "code",
      "execution_count": null,
      "id": "6d7d8998",
      "metadata": {
        "id": "6d7d8998",
        "outputId": "3d6fe5b6-28d1-4545-a575-9d13d1078b56",
        "colab": {
          "base_uri": "https://localhost:8080/"
        }
      },
      "outputs": [
        {
          "output_type": "stream",
          "name": "stdout",
          "text": [
            "Lan (20 tuổi) cao 1.62m. Sinh viên? True\n",
            "Ép kiểu từ chuỗi sang số: 42\n"
          ]
        }
      ],
      "source": [
        "# 💻 Ví dụ: Khai báo biến và ép kiểu\n",
        "name = \"Lan\"\n",
        "age = 20\n",
        "height = 1.62\n",
        "is_student = True\n",
        "age_str = str(age)\n",
        "print(f\"{name} ({age} tuổi) cao {height}m. Sinh viên? {is_student}\")\n",
        "print(\"Ép kiểu từ chuỗi sang số:\", int(\"42\"))"
      ]
    },
    {
      "cell_type": "code",
      "execution_count": null,
      "id": "5cc205f5",
      "metadata": {
        "id": "5cc205f5",
        "colab": {
          "base_uri": "https://localhost:8080/"
        },
        "outputId": "ebc6c849-0bf2-479f-f583-42538c10ddb8"
      },
      "outputs": [
        {
          "output_type": "stream",
          "name": "stdout",
          "text": [
            "nhập chiều cao(m):1.76\n",
            "nhập cân nặng(kg):72\n",
            "Chỉ số BMI: 23.24\n",
            "Phân loại chỉ số BMI: Normal\n"
          ]
        }
      ],
      "source": [
        "# 🎯 Thử thách: Tính BMI và phân loại\n",
        "\n",
        "Height = float(input(\"nhập chiều cao(m):\"))\n",
        "Weight = int(input('nhập cân nặng(kg):'))\n",
        "\n",
        "# TODO: Nhập cân nặng (kg) và chiều cao (m) từ người dùng\n",
        "\n",
        "BMI = Weight / (Height**2)\n",
        "print('Chỉ số BMI:',round(BMI, 2))\n",
        "\n",
        "# TODO: Tính BMI = weight / (height ** 2)\n",
        "\n",
        "if BMI < 18.5:\n",
        "  ploai = 'Underweight'\n",
        "if BMI >= 18.5 and BMI <= 24.9:\n",
        "  ploai = 'Normal'\n",
        "if BMI >= 25 and BMI<=29.9:\n",
        "  ploai = 'Overweight'\n",
        "if BMI>=30:\n",
        "  ploai = 'Obese'\n",
        "\n",
        "print('Phân loại chỉ số BMI:',ploai)\n",
        "\n",
        "# TODO: Phân loại theo chuẩn WHO (Underweight, Normal, Overweight, Obese)\n",
        "# Gợi ý: Dùng điều kiện if/elif để phân loại"
      ]
    },
    {
      "cell_type": "markdown",
      "id": "e01f86d4",
      "metadata": {
        "id": "e01f86d4"
      },
      "source": [
        "### Module 2: Data Structures - List\n",
        "#### 📖 Giải thích\n",
        "- `list` là cấu trúc có thứ tự, mutable, hỗ trợ indexing & slicing.\n",
        "- Dùng `list[start:stop:step]` để cắt danh sách.\n",
        "#### ⚠️ Common Mistakes\n",
        "- \"Index out of range\" khi truy cập vượt giới hạn.\n",
        "- Sao chép nông: `copy_list = original_list` cùng tham chiếu.\n",
        "#### 💡 Pythonic Way\n",
        "- Dùng slicing `list[:]` tạo bản sao, hoặc list comprehension.\n",
        "- Khai thác indexing âm (`list[-1]`) để lấy phần tử cuối.\n",
        "#### 🎯 Thử thách\n",
        "- Tìm max, min, trung bình của danh sách điểm."
      ]
    },
    {
      "cell_type": "code",
      "execution_count": null,
      "id": "6875f2d9",
      "metadata": {
        "id": "6875f2d9",
        "outputId": "42b2be47-4c6f-48a9-d913-213aa2f4fa34",
        "colab": {
          "base_uri": "https://localhost:8080/"
        }
      },
      "outputs": [
        {
          "output_type": "stream",
          "name": "stdout",
          "text": [
            "Danh sách điểm: [8.5, 9.0, 6.75, 7.8, 10, 8.0]\n",
            "Điểm đầu tiên: 8.5\n",
            "Điểm cuối cùng: 8.0\n",
            "Top 3 điểm đầu: [8.5, 9.0, 6.75]\n",
            "Danh sách sau khi reverse: [8.0, 10, 7.8, 6.75, 9.0, 8.5]\n"
          ]
        }
      ],
      "source": [
        "# 💻 Ví dụ: Các thao tác list\n",
        "scores = [8.5, 9.0, 6.5, 7.8, 10]\n",
        "scores.append(8.0)\n",
        "removed = scores.pop(2)  # Xoá phần tử tại index 2\n",
        "scores.insert(2, 6.75)\n",
        "print(\"Danh sách điểm:\", scores)\n",
        "print(\"Điểm đầu tiên:\", scores[0])\n",
        "print(\"Điểm cuối cùng:\", scores[-1])\n",
        "print(\"Top 3 điểm đầu:\", scores[:3])\n",
        "print(\"Danh sách sau khi reverse:\", list(reversed(scores)))"
      ]
    },
    {
      "cell_type": "code",
      "execution_count": null,
      "id": "23d9e7f8",
      "metadata": {
        "id": "23d9e7f8",
        "outputId": "c868598d-b8c6-4818-acce-5fae7108e85a",
        "colab": {
          "base_uri": "https://localhost:8080/"
        }
      },
      "outputs": [
        {
          "output_type": "stream",
          "name": "stdout",
          "text": [
            "Điểm cao nhất là: 10\n",
            "Điểm thấp nhất là: 6\n",
            "Điểm trung bình là: 8.08\n"
          ]
        }
      ],
      "source": [
        "# 🎯 Thử thách: Thống kê điểm trong list\n",
        "\n",
        "import numpy as np\n",
        "\n",
        "# TODO: Cho sẵn danh sách điểm, hãy tính max, min và trung bình\n",
        "# TODO: In kết quả với định dạng dễ đọc\n",
        "\n",
        "sample_scores = [9, 7.5, 8.25, 6, 10, 7.75]\n",
        "\n",
        "print('Điểm cao nhất là:',max(sample_scores))\n",
        "\n",
        "print('Điểm thấp nhất là:',min(sample_scores))\n",
        "\n",
        "print('Điểm trung bình là:',round(np.mean(sample_scores), 2))\n",
        "\n",
        "# Gợi ý: sử dụng max(), min(), sum()/len()"
      ]
    },
    {
      "cell_type": "markdown",
      "id": "c6b94cfc",
      "metadata": {
        "id": "c6b94cfc"
      },
      "source": [
        "### Module 3: Data Structures - Dictionary\n",
        "#### 📖 Giải thích\n",
        "- `dict` lưu trữ cặp key-value, key phải hashable và duy nhất.\n",
        "- Các phương thức hữu dụng: `.keys()`, `.values()`, `.items()`.\n",
        "#### ⚠️ Common Mistakes\n",
        "- `KeyError` khi truy cập key không tồn tại.\n",
        "- Dùng kiểu mutable làm key (list, dict).\n",
        "#### 💡 Pythonic Way\n",
        "- Dùng `dict.get(key, default)` để tránh lỗi.\n",
        "- Duyệt `for key, value in dict.items()` để lấy cặp key & value.\n",
        "#### 🎯 Thử thách\n",
        "- Đếm tần suất xuất hiện của mỗi từ trong một đoạn văn."
      ]
    },
    {
      "cell_type": "code",
      "execution_count": null,
      "id": "33fd6f04",
      "metadata": {
        "id": "33fd6f04",
        "outputId": "21dbab65-4940-42bb-a757-b50cd666f26e"
      },
      "outputs": [
        {
          "name": "stdout",
          "output_type": "stream",
          "text": [
            "Thông tin học sinh:\n",
            "- name: Minh\n",
            "- age: 19\n",
            "- scores: [8, 9, 7.5]\n",
            "- email: minh@example.com\n",
            "- major: Advanced Automotive Engineering\n",
            "Điểm trung bình: 8.166666666666666\n"
          ]
        }
      ],
      "source": [
        "# 💻 Ví dụ: Làm việc với dictionary\n",
        "student = {\"name\": \"Minh\", \"age\": 19, \"scores\": [8, 9, 7.5]}\n",
        "student[\"email\"] = \"minh@example.com\"\n",
        "student.update({\"major\": \"Advanced Automotive Engineering\"})\n",
        "print(\"Thông tin học sinh:\")\n",
        "for key, value in student.items():\n",
        "    print(f\"- {key}: {value}\")\n",
        "print(\"Điểm trung bình:\", sum(student[\"scores\"]) / len(student[\"scores\"]))"
      ]
    },
    {
      "cell_type": "code",
      "execution_count": null,
      "id": "c3e32a64",
      "metadata": {
        "id": "c3e32a64",
        "outputId": "800d595e-c8d5-48ed-93fe-8326a5b45b48",
        "colab": {
          "base_uri": "https://localhost:8080/"
        }
      },
      "outputs": [
        {
          "output_type": "stream",
          "name": "stdout",
          "text": [
            "Nhập câu văn bất kỳ:Điểm tiện lợi của Google Dịch chính là ứng dụng vẫn hoạt động bình thường khi bạn đang ngoại tuyến. Với khả năng dịch 59 ngôn ngữ khác nhau khi không có mạng Internet, Google Dịch giúp bạn không bỏ lỡ bất kì tình huống nào khi không có mạng internet\n",
            "Tần suất xuất hiện của từng từ là:\n",
            "- điểm: 1\n",
            "- tiện: 1\n",
            "- lợi: 1\n",
            "- của: 1\n",
            "- google: 2\n",
            "- dịch: 3\n",
            "- chính: 1\n",
            "- là: 1\n",
            "- ứng: 1\n",
            "- dụng: 1\n",
            "- vẫn: 1\n",
            "- hoạt: 1\n",
            "- động: 1\n",
            "- bình: 1\n",
            "- thường: 1\n",
            "- khi: 3\n",
            "- bạn: 2\n",
            "- đang: 1\n",
            "- ngoại: 1\n",
            "- tuyến.: 1\n",
            "- với: 1\n",
            "- khả: 1\n",
            "- năng: 1\n",
            "- 59: 1\n",
            "- ngôn: 1\n",
            "- ngữ: 1\n",
            "- khác: 1\n",
            "- nhau: 1\n",
            "- không: 3\n",
            "- có: 2\n",
            "- mạng: 2\n",
            "- internet,: 1\n",
            "- giúp: 1\n",
            "- bỏ: 1\n",
            "- lỡ: 1\n",
            "- bất: 1\n",
            "- kì: 1\n",
            "- tình: 1\n",
            "- huống: 1\n",
            "- nào: 1\n",
            "- internet: 1\n"
          ]
        }
      ],
      "source": [
        "# 🎯 Thử thách: Đếm tần suất từ\n",
        "# TODO: Yêu cầu người dùng nhập một câu bất kỳ\n",
        "\n",
        "a = input('Nhập câu văn bất kỳ:')\n",
        "# TODO: Chuyển câu về chữ thường, tách theo khoảng trắng\n",
        "\n",
        "a = a.lower()\n",
        "ds_tu = a.split()\n",
        "\n",
        "# TODO: Dùng dictionary để đếm số lần xuất hiện của từng từ\n",
        "\n",
        "tan_suat = {}\n",
        "for tu in ds_tu:\n",
        "  tan_suat[tu] = tan_suat.get(tu, 0) + 1\n",
        "print('Tần suất xuất hiện của từng từ là:')\n",
        "for key, value in tan_suat.items():\n",
        "  print(f'- {key}: {value}')\n",
        "\n",
        "# Gợi ý: Sử dụng dict.get(word, 0)"
      ]
    },
    {
      "cell_type": "markdown",
      "id": "d8df3c7f",
      "metadata": {
        "id": "d8df3c7f"
      },
      "source": [
        "### Module 4: Control Flow\n",
        "#### 📖 Giải thích\n",
        "- Cấu trúc điều kiện: `if`, `elif`, `else`.\n",
        "- Vòng lặp: `for`, `while`, `range`, kèm `break`, `continue`.\n",
        "#### ⚠️ Common Mistakes\n",
        "- Vòng lặp vô hạn do điều kiện dừng sai.\n",
        "- Lỗi thụt lề (indentation).\n",
        "#### 💡 Pythonic Way\n",
        "- Duyệt trực tiếp phần tử: `for item in collection`.\n",
        "- Dùng `enumerate()` khi cần index và giá trị.\n",
        "#### 🎯 Thử thách\n",
        "- In bảng cửu chương từ 1 đến 10 (mỗi dòng biểu diễn một phép nhân)."
      ]
    },
    {
      "cell_type": "code",
      "execution_count": null,
      "id": "79d601fa",
      "metadata": {
        "id": "79d601fa",
        "outputId": "205fc849-056f-4c12-cb44-1fd6f40907ab",
        "colab": {
          "base_uri": "https://localhost:8080/"
        }
      },
      "outputs": [
        {
          "output_type": "stream",
          "name": "stdout",
          "text": [
            "1. apple\n",
            "2. banana\n",
            "3. cherry\n",
            "Lan làm rất tốt!\n",
            "Minh làm rất tốt!\n",
            "Hoa cần cải thiện\n"
          ]
        }
      ],
      "source": [
        "# 💻 Ví dụ: Vòng lặp với list và dict\n",
        "fruits = [\"apple\", \"banana\", \"cherry\"]\n",
        "for index, fruit in enumerate(fruits, start=1):\n",
        "    print(f\"{index}. {fruit}\")\n",
        "\n",
        "grades = {\"Lan\": 9, \"Minh\": 8.5, \"Hoa\": 7.75}\n",
        "for name, grade in grades.items():\n",
        "    if grade < 8:\n",
        "        print(f\"{name} cần cải thiện\")\n",
        "    else:\n",
        "        print(f\"{name} làm rất tốt!\")"
      ]
    },
    {
      "cell_type": "code",
      "execution_count": null,
      "id": "7659eb63",
      "metadata": {
        "id": "7659eb63",
        "outputId": "7c841fc5-5ed7-4a41-e08a-5d53461a8754",
        "colab": {
          "base_uri": "https://localhost:8080/"
        }
      },
      "outputs": [
        {
          "output_type": "stream",
          "name": "stdout",
          "text": [
            "bảng nhân 1:\n",
            "1 x 1 = 1 \n",
            "1 x 2 = 2 \n",
            "1 x 3 = 3 \n",
            "1 x 4 = 4 \n",
            "1 x 5 = 5 \n",
            "1 x 6 = 6 \n",
            "1 x 7 = 7 \n",
            "1 x 8 = 8 \n",
            "1 x 9 = 9 \n",
            "1 x 10 = 10 \n",
            "bảng nhân 2:\n",
            "2 x 1 = 2 \n",
            "2 x 2 = 4 \n",
            "2 x 3 = 6 \n",
            "2 x 4 = 8 \n",
            "2 x 5 = 10 \n",
            "2 x 6 = 12 \n",
            "2 x 7 = 14 \n",
            "2 x 8 = 16 \n",
            "2 x 9 = 18 \n",
            "2 x 10 = 20 \n",
            "bảng nhân 3:\n",
            "3 x 1 = 3 \n",
            "3 x 2 = 6 \n",
            "3 x 3 = 9 \n",
            "3 x 4 = 12 \n",
            "3 x 5 = 15 \n",
            "3 x 6 = 18 \n",
            "3 x 7 = 21 \n",
            "3 x 8 = 24 \n",
            "3 x 9 = 27 \n",
            "3 x 10 = 30 \n",
            "bảng nhân 4:\n",
            "4 x 1 = 4 \n",
            "4 x 2 = 8 \n",
            "4 x 3 = 12 \n",
            "4 x 4 = 16 \n",
            "4 x 5 = 20 \n",
            "4 x 6 = 24 \n",
            "4 x 7 = 28 \n",
            "4 x 8 = 32 \n",
            "4 x 9 = 36 \n",
            "4 x 10 = 40 \n",
            "bảng nhân 5:\n",
            "5 x 1 = 5 \n",
            "5 x 2 = 10 \n",
            "5 x 3 = 15 \n",
            "5 x 4 = 20 \n",
            "5 x 5 = 25 \n",
            "5 x 6 = 30 \n",
            "5 x 7 = 35 \n",
            "5 x 8 = 40 \n",
            "5 x 9 = 45 \n",
            "5 x 10 = 50 \n",
            "bảng nhân 6:\n",
            "6 x 1 = 6 \n",
            "6 x 2 = 12 \n",
            "6 x 3 = 18 \n",
            "6 x 4 = 24 \n",
            "6 x 5 = 30 \n",
            "6 x 6 = 36 \n",
            "6 x 7 = 42 \n",
            "6 x 8 = 48 \n",
            "6 x 9 = 54 \n",
            "6 x 10 = 60 \n",
            "bảng nhân 7:\n",
            "7 x 1 = 7 \n",
            "7 x 2 = 14 \n",
            "7 x 3 = 21 \n",
            "7 x 4 = 28 \n",
            "7 x 5 = 35 \n",
            "7 x 6 = 42 \n",
            "7 x 7 = 49 \n",
            "7 x 8 = 56 \n",
            "7 x 9 = 63 \n",
            "7 x 10 = 70 \n",
            "bảng nhân 8:\n",
            "8 x 1 = 8 \n",
            "8 x 2 = 16 \n",
            "8 x 3 = 24 \n",
            "8 x 4 = 32 \n",
            "8 x 5 = 40 \n",
            "8 x 6 = 48 \n",
            "8 x 7 = 56 \n",
            "8 x 8 = 64 \n",
            "8 x 9 = 72 \n",
            "8 x 10 = 80 \n",
            "bảng nhân 9:\n",
            "9 x 1 = 9 \n",
            "9 x 2 = 18 \n",
            "9 x 3 = 27 \n",
            "9 x 4 = 36 \n",
            "9 x 5 = 45 \n",
            "9 x 6 = 54 \n",
            "9 x 7 = 63 \n",
            "9 x 8 = 72 \n",
            "9 x 9 = 81 \n",
            "9 x 10 = 90 \n",
            "bảng nhân 10:\n",
            "10 x 1 = 10 \n",
            "10 x 2 = 20 \n",
            "10 x 3 = 30 \n",
            "10 x 4 = 40 \n",
            "10 x 5 = 50 \n",
            "10 x 6 = 60 \n",
            "10 x 7 = 70 \n",
            "10 x 8 = 80 \n",
            "10 x 9 = 90 \n",
            "10 x 10 = 100 \n"
          ]
        }
      ],
      "source": [
        "# 🎯 Thử thách: Bảng cửu chương\n",
        "# TODO: Sử dụng hai vòng lặp for lồng nhau\n",
        "for a in range(1,11):\n",
        "  print(f'bảng nhân {a}:')\n",
        "  for b in range(1,11):\n",
        "    print(f'{a} x {b} = {a*b} ')\n",
        "# TODO: In bảng cửu chương từ 1 đến 10 theo định dạng 'a x b = c'\n",
        "# Gợi ý: sử dụng end='\t' để canh dòng đẹp mắt"
      ]
    },
    {
      "cell_type": "markdown",
      "id": "86da1b90",
      "metadata": {
        "id": "86da1b90"
      },
      "source": [
        "### Module 5: Functions & Strings\n",
        "#### 📖 Giải thích\n",
        "- Định nghĩa hàm với `def`, tham số và `return`.\n",
        "- Các thao tác chuỗi: `.split()`, `.join()`, `.strip()`, `.lower()`.\n",
        "#### ⚠️ Common Mistakes\n",
        "- Quên `return` nên hàm trả về `None`.\n",
        "- Dùng giá trị mutable làm tham số mặc định.\n",
        "#### 💡 Pythonic Way\n",
        "- Viết docstring ngắn mô tả chức năng hàm.\n",
        "- (Tuỳ chọn) Dùng type hints để rõ ràng đầu vào/đầu ra.\n",
        "#### 🎯 Thử thách\n",
        "- Viết hàm kiểm tra chuỗi palindrome (đối xứng)."
      ]
    },
    {
      "cell_type": "code",
      "execution_count": null,
      "id": "8c65b574",
      "metadata": {
        "id": "8c65b574",
        "outputId": "37e3d942-3703-4602-b478-2be40abe4721",
        "colab": {
          "base_uri": "https://localhost:8080/"
        }
      },
      "outputs": [
        {
          "output_type": "stream",
          "name": "stdout",
          "text": [
            "Nguyen Van A đạt 8.46 điểm\n"
          ]
        }
      ],
      "source": [
        "# 💻 Ví dụ: Định nghĩa hàm và thao tác chuỗi\n",
        "def format_student(name: str, score: float) -> str:\n",
        "    \"\"\"Trả về câu mô tả điểm của học sinh.\"\"\"\n",
        "    clean_name = name.strip().title()\n",
        "    return f\"{clean_name} đạt {score:.2f} điểm\"\n",
        "\n",
        "print(format_student(\"  nguyen van a\", 8.456))"
      ]
    },
    {
      "cell_type": "code",
      "execution_count": null,
      "id": "e8d2abbe",
      "metadata": {
        "id": "e8d2abbe",
        "outputId": "dca7c4bb-b4f2-4a72-966e-78b3a5687bad",
        "colab": {
          "base_uri": "https://localhost:8080/"
        }
      },
      "outputs": [
        {
          "output_type": "stream",
          "name": "stdout",
          "text": [
            "1 : level -> Correct\n",
            "2 : Able was I ere I saw Elba -> Correct\n",
            "3 : Python -> Incorrect\n",
            "4 : level -> Correct\n"
          ]
        }
      ],
      "source": [
        "# 🎯 Thử thách: Hàm kiểm tra palindrome\n",
        "# TODO: Viết hàm is_palindrome(text: str) -> bool\n",
        "# TODO: Bỏ khoảng trắng và phân biệt hoa thường trước khi kiểm tra\n",
        "# TODO: Thử nghiệm một vài ví dụ\n",
        "\n",
        "def is_palindrome(text: str) -> bool:\n",
        "  text = text.lower()\n",
        "  for i in range(0, len(text)):\n",
        "    if text[i] == text[-(i+1)]:\n",
        "      result = 'Correct'\n",
        "    else:\n",
        "      result = 'Incorrect'\n",
        "  return result\n",
        "\n",
        "examples = [\"level\", \"Able was I ere I saw Elba\", \"Python\", 'level']\n",
        "for index,example in enumerate(examples, start = 1):\n",
        "    print(index,':', example, '->', is_palindrome(example))"
      ]
    },
    {
      "cell_type": "markdown",
      "id": "e99ff3d2",
      "metadata": {
        "id": "e99ff3d2"
      },
      "source": [
        "### Module 6: Exception Handling\n",
        "#### 📖 Giải thích\n",
        "- Khối `try`/`except`/`else`/`finally`.\n",
        "- Các lỗi thường gặp: `ValueError`, `TypeError`.\n",
        "#### ⚠️ Common Mistakes\n",
        "- Bắt `except:` quá rộng làm che dấu lỗi.\n",
        "#### 💡 Pythonic Way\n",
        "- Bắt lỗi cụ thể, tuân theo triết lý EAFP (Easier to Ask Forgiveness than Permission).\n",
        "#### 🎯 Thử thách\n",
        "- Nhập và validate số nguyên dương từ người dùng."
      ]
    },
    {
      "cell_type": "code",
      "execution_count": null,
      "id": "f7e42d04",
      "metadata": {
        "id": "f7e42d04",
        "outputId": "8441f61e-da51-4bd8-e3e6-3a58af3e81e6",
        "colab": {
          "base_uri": "https://localhost:8080/"
        }
      },
      "outputs": [
        {
          "output_type": "stream",
          "name": "stdout",
          "text": [
            "5.0\n",
            "Không thể chia cho 0!\n",
            "inf\n"
          ]
        }
      ],
      "source": [
        "# 💻 Ví dụ: Xử lý input không hợp lệ\n",
        "def divide(a: float, b: float) -> float:\n",
        "    try:\n",
        "        return a / b\n",
        "    except:\n",
        "         print(\"Không thể chia cho 0!\")\n",
        "         return float('inf')\n",
        "\n",
        "print(divide(10, 2))\n",
        "print(divide(5, 0))"
      ]
    },
    {
      "cell_type": "code",
      "execution_count": null,
      "id": "9df56ff6",
      "metadata": {
        "id": "9df56ff6",
        "outputId": "aeaeebcd-cafe-421c-e044-09e434155440",
        "colab": {
          "base_uri": "https://localhost:8080/"
        }
      },
      "outputs": [
        {
          "output_type": "stream",
          "name": "stdout",
          "text": [
            "Nhập giá trị số nguyên: a\n",
            "!!! ĐÃ CÓ LỖI !!! Hãy kiểm tra giá trị\n",
            "Nhập giá trị số nguyên: -1\n",
            "!!! Phải nhập số nguyên dương !!!\n",
            "Nhập giá trị số nguyên: 4\n",
            "Bạn đã nhập giá trị nguyên dương!\n"
          ]
        }
      ],
      "source": [
        "# 🎯 Thử thách: Validate số nguyên dương\n",
        "# TODO: Yêu cầu người dùng nhập một số\n",
        "# TODO: Dùng try/except để bắt ValueError\n",
        "# TODO: Kiểm tra số > 0, nếu không hãy yêu cầu nhập lại\n",
        "# Gợi ý: Dùng vòng lặp while True\n",
        "\n",
        "def validate():\n",
        "  while True:\n",
        "    try:\n",
        "      n = int(input('Nhập giá trị số nguyên: '))\n",
        "    except ValueError:\n",
        "      print('!!! ĐÃ CÓ LỖI !!! Hãy kiểm tra giá trị')\n",
        "      continue\n",
        "    if n <= 0:\n",
        "      print('!!! Phải nhập số nguyên dương !!!')\n",
        "      continue\n",
        "    print(f'Bạn đã nhập giá trị nguyên dương!')\n",
        "    break\n",
        "validate()"
      ]
    },
    {
      "cell_type": "markdown",
      "id": "f0eeb5b3",
      "metadata": {
        "id": "f0eeb5b3"
      },
      "source": [
        "## Phần 2: Python for Data Science"
      ]
    },
    {
      "cell_type": "markdown",
      "id": "7ef97392",
      "metadata": {
        "id": "7ef97392"
      },
      "source": [
        "### Module 7: List Comprehension & Lambda\n",
        "#### 📖 Giải thích\n",
        "- Cú pháp list comprehension: `[biểu_thức for phần_tử in iterable if điều_kiện]`.\n",
        "- Lambda: hàm ẩn danh hữu ích cho thao tác nhanh.\n",
        "#### ⚠️ Common Mistakes\n",
        "- Viết comprehension quá dài, khó đọc.\n",
        "#### 💡 Pythonic Way\n",
        "- Ưu tiên comprehension khi logic đơn giản.\n",
        "- Khi logic phức tạp, tách ra hàm riêng để rõ ràng.\n",
        "#### 🎯 Thử thách\n",
        "- Lọc số chẵn trong danh sách và bình phương chúng."
      ]
    },
    {
      "cell_type": "code",
      "execution_count": null,
      "id": "b0e04b74",
      "metadata": {
        "id": "b0e04b74",
        "outputId": "92ab44cd-aa2f-4830-9e70-acc68e966a06",
        "colab": {
          "base_uri": "https://localhost:8080/"
        }
      },
      "outputs": [
        {
          "output_type": "stream",
          "name": "stdout",
          "text": [
            "Comprehension: [1, 4, 9, 16, 25, 36, 49, 64, 81, 100]\n",
            "Map + lambda: [1, 4, 9, 16, 25, 36, 49, 64, 81, 100]\n",
            "Số chẵn: [2, 4, 6, 8, 10]\n"
          ]
        }
      ],
      "source": [
        "# 💻 Ví dụ: So sánh comprehension và map/filter\n",
        "numbers = list(range(1, 11))\n",
        "squares_comp = [n ** 2 for n in numbers]\n",
        "squares_map = list(map(lambda n: n ** 2, numbers))\n",
        "\n",
        "print(\"Comprehension:\", squares_comp)\n",
        "print(\"Map + lambda:\", squares_map)\n",
        "\n",
        "even_numbers = [n for n in numbers if n % 2 == 0]\n",
        "print(\"Số chẵn:\", even_numbers)"
      ]
    },
    {
      "cell_type": "code",
      "execution_count": null,
      "id": "da60c543",
      "metadata": {
        "id": "da60c543",
        "outputId": "85e79a8a-e1c6-4ffb-cfe0-2e5b6a97ce02",
        "colab": {
          "base_uri": "https://localhost:8080/"
        }
      },
      "outputs": [
        {
          "output_type": "stream",
          "name": "stdout",
          "text": [
            "[16, 100, 144, 324]\n"
          ]
        }
      ],
      "source": [
        "# 🎯 Thử thách: Lọc và bình phương số chẵn\n",
        "# TODO: Cho danh sách numbers, tạo danh sách mới chứa bình phương của số chẵn\n",
        "numbers = [3, 4, 7, 10, 12, 15, 18]\n",
        "# Gợi ý: sử dụng list comprehension hoặc kết hợp filter/map\n",
        "even_square_numbers = [n**2 for n in numbers if n % 2 == 0]  # Thay thế bằng kết quả của bạn\n",
        "print(even_square_numbers)"
      ]
    },
    {
      "cell_type": "markdown",
      "id": "095f86ff",
      "metadata": {
        "id": "095f86ff"
      },
      "source": [
        "### Module 8: Statistics & Math\n",
        "#### 📖 Giải thích\n",
        "- Mô-đun `statistics`: `mean`, `median`, `mode`, `stdev`, `pstdev`, `variance`.\n",
        "- Tính toán toán học dùng mô-đun `math`.\n",
        "#### ⚠️ Common Mistakes\n",
        "- Chia cho 0 khi danh sách rỗng.\n",
        "- Nhầm giữa `stdev` (mẫu) và `pstdev` (toàn bộ).\n",
        "#### 💡 Pythonic Way\n",
        "- Kiểm tra đầu vào trước khi tính toán.\n",
        "- Dùng `statistics` thay vì tự cài đặt nếu đã có sẵn.\n",
        "#### 🎯 Thử thách\n",
        "- Tính mean, median, std cho danh sách điểm thi."
      ]
    },
    {
      "cell_type": "code",
      "execution_count": null,
      "id": "1ac83b26",
      "metadata": {
        "id": "1ac83b26",
        "outputId": "10b1954b-d3e7-44ae-962d-32e0867949e0"
      },
      "outputs": [
        {
          "name": "stdout",
          "output_type": "stream",
          "text": [
            "Mean: 7.88\n",
            "Median: 7.9\n",
            "Standard Deviation: 0.8757853618324525\n"
          ]
        }
      ],
      "source": [
        "# 💻 Ví dụ: Tính toán thống kê cơ bản\n",
        "sample_data = [7.5, 8.0, 9.2, 6.8, 7.9]\n",
        "print(\"Mean:\", stats.mean(sample_data))\n",
        "print(\"Median:\", stats.median(sample_data))\n",
        "print(\"Standard Deviation:\", stats.stdev(sample_data))"
      ]
    },
    {
      "cell_type": "code",
      "execution_count": null,
      "id": "f5346645",
      "metadata": {
        "id": "f5346645",
        "outputId": "d142ac06-5eca-45ff-e323-0fd36b77ac81",
        "colab": {
          "base_uri": "https://localhost:8080/"
        }
      },
      "outputs": [
        {
          "output_type": "stream",
          "name": "stdout",
          "text": [
            "Giá trị Mean là: 7.43\n",
            "Giá trị Median là: 7.5\n",
            "Giá trị Standard Deviation là : 1.28\n"
          ]
        }
      ],
      "source": [
        "# 🎯 Thử thách: Thống kê điểm thi\n",
        "# TODO: Cho danh sách điểm exams, tính mean, median, std\n",
        "# TODO: In kết quả với 2 chữ số thập phân\n",
        "import statistics as stat\n",
        "\n",
        "exams = [5.5, 7.0, 8.75, 9.0, 6.25, 7.5, 8.0]\n",
        "print('Giá trị Mean là:', round(stat.mean(exams), 2))\n",
        "print('Giá trị Median là:', round(stat.median(exams), 2))\n",
        "print('Giá trị Standard Deviation là :', round(stat.stdev(exams), 2))\n",
        "\n",
        "# Gợi ý: sử dụng round(value, 2)"
      ]
    },
    {
      "cell_type": "markdown",
      "id": "3c9d5ef7",
      "metadata": {
        "id": "3c9d5ef7"
      },
      "source": [
        "### Module 9: NumPy Basics\n",
        "#### 📖 Giải thích\n",
        "- `numpy.ndarray` cho phép thao tác vector hoá và broadcasting.\n",
        "- Các thao tác thường dùng: tạo array, reshape, slicing, toán tử vector.\n",
        "#### ⚠️ Common Mistakes\n",
        "- Nhầm list với array (thiếu thuộc tính `.shape`).\n",
        "- Sai lệch kích thước dẫn tới lỗi broadcasting.\n",
        "#### 💡 Pythonic Way\n",
        "- Ưu tiên thao tác vector hoá thay vì vòng lặp thuần Python.\n",
        "#### 🎯 Thử thách\n",
        "- Chuẩn hoá (normalize) mảng điểm theo z-score."
      ]
    },
    {
      "cell_type": "code",
      "execution_count": null,
      "id": "c47e8bb4",
      "metadata": {
        "id": "c47e8bb4",
        "outputId": "3b83f227-c423-47fd-b470-86e2c8e70a55",
        "colab": {
          "base_uri": "https://localhost:8080/"
        }
      },
      "outputs": [
        {
          "output_type": "stream",
          "name": "stdout",
          "text": [
            "Array: [1 2 3 4 5]\n",
            "Shape: (5,)\n",
            "Bình phương từng phần tử: [ 1  4  9 16 25]\n",
            "Ma trận 3x4 [[ 1  2  3  4]\n",
            " [ 5  6  7  8]\n",
            " [ 9 10 11 12]]\n",
            "Cắt cột 2-3: [[ 2  3]\n",
            " [ 6  7]\n",
            " [10 11]]\n"
          ]
        }
      ],
      "source": [
        "# 💻 Ví dụ: Cơ bản về NumPy\n",
        "import numpy as np\n",
        "arr = np.array([1, 2, 3, 4, 5])\n",
        "print(\"Array:\", arr)\n",
        "print(\"Shape:\", arr.shape)\n",
        "print(\"Bình phương từng phần tử:\", arr ** 2)\n",
        "matrix = np.arange(1, 13).reshape(3, 4)\n",
        "print(\"Ma trận 3x4\",  matrix)\n",
        "print(\"Cắt cột 2-3:\", matrix[:, 1:3])"
      ]
    },
    {
      "cell_type": "code",
      "execution_count": null,
      "id": "c373345c",
      "metadata": {
        "id": "c373345c",
        "outputId": "e8ef9588-e0cd-491d-dd37-2d961af827e3",
        "colab": {
          "base_uri": "https://localhost:8080/"
        }
      },
      "outputs": [
        {
          "output_type": "stream",
          "name": "stdout",
          "text": [
            "Danh sách điểm chuẩn hóa: [-1.4  -0.88  0.39  1.75 -0.04  0.18]\n",
            "Danh sách điểm có sắp xếp: [6.5 7.  7.8 8.  8.2 9.5]\n"
          ]
        }
      ],
      "source": [
        "# 🎯 Thử thách: Chuẩn hoá điểm với z-score\n",
        "# TODO: Tạo np.array từ danh sách điểm\n",
        "# TODO: Tính mean và std (dùng np.mean, np.std)\n",
        "# TODO: Chuẩn hoá từng điểm: (score - mean) / std\n",
        "import numpy as np\n",
        "raw_scores = [6.5, 7.0, 8.2, 9.5, 7.8, 8.0]\n",
        "\n",
        "array = np.array(raw_scores)\n",
        "mean = np.mean(array)\n",
        "std = np.std(array)\n",
        "\n",
        "normalized_scores = np.round((array - mean)/std , 2)\n",
        "sorted_scores = np.sort(raw_scores)\n",
        "print(f'Danh sách điểm chuẩn hóa: {normalized_scores}')\n",
        "print(f'Danh sách điểm có sắp xếp: {sorted_scores}')"
      ]
    },
    {
      "cell_type": "markdown",
      "id": "b71b4fd5",
      "metadata": {
        "id": "b71b4fd5"
      },
      "source": [
        "## Phần 3: Data Visualization"
      ]
    },
    {
      "cell_type": "markdown",
      "id": "9e172e82",
      "metadata": {
        "id": "9e172e82"
      },
      "source": [
        "### Module 10: Matplotlib Basics\n",
        "#### 📖 Giải thích\n",
        "- Các hàm cơ bản: `plt.plot`, `plt.bar`, `plt.hist`, `plt.scatter`.\n",
        "- Tư duy figure/axes: `fig, ax = plt.subplots()`.\n",
        "#### ⚠️ Common Mistakes\n",
        "- Quên `plt.show()` khiến biểu đồ không hiển thị.\n",
        "- Thiếu tiêu đề, nhãn trục, chú thích.\n",
        "#### 💡 Pythonic Way\n",
        "- Tách dữ liệu và thiết lập biểu đồ rõ ràng.\n",
        "- Dùng subplot để vẽ nhiều đồ thị trong một figure.\n",
        "#### 🎯 Thử thách\n",
        "- Vẽ histogram phân bố điểm của lớp."
      ]
    },
    {
      "cell_type": "code",
      "execution_count": null,
      "id": "cf00a91b",
      "metadata": {
        "id": "cf00a91b",
        "outputId": "19122cc8-ec1b-4d6b-bc8d-8e7d2bd8b4f6",
        "colab": {
          "base_uri": "https://localhost:8080/",
          "height": 788
        }
      },
      "outputs": [
        {
          "output_type": "display_data",
          "data": {
            "text/plain": [
              "<Figure size 600x400 with 1 Axes>"
            ],
            "image/png": "[encoded data removed]"
          },
          "metadata": {}
        },
        {
          "output_type": "display_data",
          "data": {
            "text/plain": [
              "<Figure size 600x400 with 1 Axes>"
            ],
            "image/png": "[encoded data removed]"
          },
          "metadata": {}
        }
      ],
      "source": [
        "# 💻 Ví dụ: Line chart và bar chart\n",
        "import matplotlib.pyplot as plt\n",
        "\n",
        "fig, ax = plt.subplots(figsize=(6, 4))\n",
        "weeks = [1, 2, 3, 4]\n",
        "progress = [60, 65, 75, 85]\n",
        "ax.plot(weeks, progress, marker='o', label='Tiến độ')\n",
        "ax.set_title('Tiến bộ học tập')\n",
        "ax.set_xlabel('Tuần')\n",
        "ax.set_ylabel('Điểm trung bình')\n",
        "ax.legend()\n",
        "plt.show()\n",
        "\n",
        "fig, ax = plt.subplots(figsize=(6, 4))\n",
        "subjects = ['Toán', 'Lý', 'Hóa', 'Anh']\n",
        "scores = [8.5, 7.8, 8.2, 9.0]\n",
        "ax.bar(subjects, scores, color='skyblue')\n",
        "ax.set_title('Điểm trung bình theo môn')\n",
        "ax.set_ylabel('Điểm')\n",
        "plt.show()"
      ]
    },
    {
      "cell_type": "code",
      "execution_count": null,
      "id": "19033aff",
      "metadata": {
        "id": "19033aff",
        "outputId": "c50a6b49-299e-4398-e580-bb192caf5a79",
        "colab": {
          "base_uri": "https://localhost:8080/",
          "height": 476
        }
      },
      "outputs": [
        {
          "output_type": "display_data",
          "data": {
            "text/plain": [
              "<Figure size 640x480 with 1 Axes>"
            ],
            "image/png": "[encoded data removed]"
          },
          "metadata": {}
        }
      ],
      "source": [
        "# 🎯 Thử thách: Histogram phân bố điểm\n",
        "# TODO: Cho danh sách điểm, vẽ histogram với matplotlib\n",
        "import matplotlib.pyplot as plt\n",
        "import numpy as np\n",
        "\n",
        "class_scores = np.random.normal(loc=7.5, scale=1.2, size=50)\n",
        "plt.hist(class_scores, bins = 12, color = 'red', edgecolor = 'white')\n",
        "plt.title('Biểu đồ Histogram phân bố điểm của lớp')\n",
        "plt.xlabel('Điểm của lớp')\n",
        "plt.ylabel('Tần suất')\n",
        "plt.show()\n",
        "\n",
        "# Gợi ý: dùng plt.hist(..., bins=10), thêm tiêu đề và nhãn trục"
      ]
    },
    {
      "cell_type": "markdown",
      "id": "6a54695f",
      "metadata": {
        "id": "6a54695f"
      },
      "source": [
        "## Phần 4: Final Projects\n",
        "Hoàn thành ba dự án dưới đây. Bạn có thể mở rộng thêm tính năng để tăng thử thách."
      ]
    },
    {
      "cell_type": "markdown",
      "id": "5e6481af",
      "metadata": {
        "id": "5e6481af"
      },
      "source": [
        "### Bài 1: Quản lý điểm học sinh (Nâng cao)\n",
        "#### Yêu cầu\n",
        "- Nhập danh sách học sinh và điểm (có thể dùng dict).\n",
        "- Xếp loại học sinh theo thang điểm (A/B/C/D/F tuỳ vào bạn định nghĩa).\n",
        "- Tìm học sinh điểm cao nhất/thấp nhất.\n",
        "- Tính mean, median, std của lớp.\n",
        "- Vẽ histogram phân bố điểm và bar chart số lượng từng loại.\n",
        "#### Gợi ý kỹ năng\n",
        "- Dùng dict để lưu trữ thông tin, hàm để tổ chức logic, `statistics` và `matplotlib`."
      ]
    },
    {
      "cell_type": "code",
      "execution_count": 44,
      "id": "da81a7aa",
      "metadata": {
        "id": "da81a7aa",
        "outputId": "ae0d738d-dc4a-4896-a912-d23684740b6a",
        "colab": {
          "base_uri": "https://localhost:8080/",
          "height": 990
        }
      },
      "outputs": [
        {
          "output_type": "stream",
          "name": "stdout",
          "text": [
            "Nhập điểm của An: 7.8\n",
            "Nhập điểm của Bình: 3.4\n",
            "Nhập điểm của Nam: 9.1\n",
            "Nhập điểm của Kiên: 8.6\n",
            "Nhập điểm của Liên: 5.6\n",
            "Nhập điểm của Hoàng: 6.4\n",
            "Nhập điểm của  Huy: 4.5\n",
            "Nhập điểm của Long: 1.5\n",
            "Nhập điểm của Trường: 10\n",
            "Nhập điểm của VietAnh: 8.9\n",
            "1. Phân loại điểm: {'An': 'B+', 'Bình': 'D', 'Nam': 'A+', 'Kiên': 'A', 'Liên': 'C', 'Hoàng': 'B', ' Huy': 'D', 'Long': 'F', 'Trường': 'A+', 'VietAnh': 'A'}\n",
            "2. Người có điểm cao nhất là: Trường với số điểm là: 10.0\n",
            "3. Người có điểm thấp nhất là: Long với số điểm là: 1.5\n",
            "4. Giá trị Mean của ds điểm là: 6.58\n",
            "5. Giá trị Median của ds điểm là: 7.1\n",
            "6. Giá trị Standard Deviation là: 2.79\n",
            "7. Bảng báo cáo điểm của từng người là:\n",
            "        Tên  Điểm Phân loại\n",
            "1        An   7.8        B+\n",
            "2      Bình   3.4         D\n",
            "3       Nam   9.1        A+\n",
            "4      Kiên   8.6         A\n",
            "5      Liên   5.6         C\n",
            "6     Hoàng   6.4         B\n",
            "7       Huy   4.5         D\n",
            "8      Long   1.5         F\n",
            "9    Trường  10.0        A+\n",
            "10  VietAnh   8.9         A\n",
            "8. Biểu đồ\n"
          ]
        },
        {
          "output_type": "display_data",
          "data": {
            "text/plain": [
              "<Figure size 640x480 with 2 Axes>"
            ],
            "image/png": "[encoded data removed]"
          },
          "metadata": {}
        }
      ],
      "source": [
        "# 🛠️ Skeleton: Quản lý điểm học sinh\n",
        "import statistics as stat\n",
        "import pandas as pd\n",
        "from pandas import DataFrame\n",
        "import matplotlib.pyplot as plt\n",
        "\n",
        "# Bước 1: Thu thập dữ liệu học sinh\n",
        "\n",
        "names = ['An', 'Bình','Nam','Kiên','Liên','Hoàng',' Huy','Long','Trường','VietAnh']\n",
        "scores = []\n",
        "for index, name in enumerate(names):\n",
        "  x = float(input(f'Nhập điểm của {name}: '))\n",
        "  scores.append(x)\n",
        "students_scores = dict(zip(names, scores))\n",
        "\n",
        "# Bước 2: Viết hàm xếp loại\n",
        "\n",
        "def classify(list):\n",
        "  classify =[]\n",
        "  for scores in list:\n",
        "    if scores < 3:\n",
        "      rank = 'F'\n",
        "    elif scores < 5:\n",
        "      rank = 'D'\n",
        "    elif scores < 6:\n",
        "      rank = 'C'\n",
        "    elif scores < 7:\n",
        "      rank = 'B'\n",
        "    elif scores < 8:\n",
        "      rank = 'B+'\n",
        "    elif scores < 9:\n",
        "      rank = 'A'\n",
        "    elif scores <=10:\n",
        "      rank = \"A+\"\n",
        "    classify.append(rank)\n",
        "  return classify\n",
        "\n",
        "print('1. Phân loại điểm:', dict(zip(names, classify(scores))))\n",
        "classify_scores = classify(scores)\n",
        "\n",
        "# Bước 3: Tính toán thống kê và tìm max/min\n",
        "\n",
        "key, value = max(students_scores.items(), key = lambda x: x[1] )\n",
        "print(f'2. Người có điểm cao nhất là: {key} với số điểm là: {value}')\n",
        "key, value= min(students_scores.items(), key = lambda x: x[1])\n",
        "print(f'3. Người có điểm thấp nhất là: {key} với số điểm là: {value}')\n",
        "print(f'4. Giá trị Mean của ds điểm là: {round(stat.mean(scores), 2)}')\n",
        "print(f'5. Giá trị Median của ds điểm là: {round(stat.median(scores), 2)}')\n",
        "print(f'6. Giá trị Standard Deviation là: {round(stat.stdev(scores), 2)}')\n",
        "score_table = {\n",
        "    'Tên': names,\n",
        "    'Điểm': scores,\n",
        "    'Phân loại': classify_scores\n",
        "\n",
        "}\n",
        "bao_cao = DataFrame(score_table, index=[1,2,3,4,5,6,7,8,9,10])\n",
        "print('7. Bảng báo cáo điểm của từng người là:', bao_cao, sep='\\n')\n",
        "\n",
        "# Bước 4: Vẽ biểu đồ histogram & bar chart\n",
        "print('8. Biểu đồ')\n",
        "\n",
        "counter = {}\n",
        "for grade in classify_scores:\n",
        "  counter[grade]= counter.get(grade, 0) + 1\n",
        "label=list(counter.keys())\n",
        "value=list(counter.values())\n",
        "\n",
        "plt.subplot(1,2,1)\n",
        "plt.hist(scores, color='red', edgecolor = 'white', bins=10)\n",
        "plt.title('Biểu đồ Histogram của điểm lớp')\n",
        "plt.xlabel('Điểm')\n",
        "plt.ylabel('Tần suất')\n",
        "\n",
        "plt.subplot(1,2,2)\n",
        "plt.bar(label, value, color = 'purple', edgecolor='black')\n",
        "plt.title('Biểu đồ số lượng điểm thang chữ')\n",
        "plt.xlabel('Thang điểm chữ')\n",
        "plt.ylabel('Số lượng')\n",
        "\n",
        "plt.tight_layout()\n",
        "plt.show()"
      ]
    },
    {
      "cell_type": "markdown",
      "id": "41fcdb75",
      "metadata": {
        "id": "41fcdb75"
      },
      "source": [
        "### Bài 2: Vẽ hình thoi\n",
        "#### Yêu cầu\n",
        "- Nhập `n` (validate số nguyên dương).\n",
        "- Nếu `n` chẵn thì tăng lên `n + 1` để đảm bảo số lẻ.\n",
        "- Vẽ hình thoi n×n bằng ký tự `*`.\n",
        "#### Gợi ý kỹ năng\n",
        "- Sử dụng vòng lặp, nhân chuỗi và xử lý ngoại lệ."
      ]
    },
    {
      "cell_type": "code",
      "execution_count": 47,
      "id": "702d077b",
      "metadata": {
        "id": "702d077b",
        "outputId": "f342a39c-a21e-4447-c8e9-b5500f3c2343",
        "colab": {
          "base_uri": "https://localhost:8080/"
        }
      },
      "outputs": [
        {
          "output_type": "stream",
          "name": "stdout",
          "text": [
            "Nhập giá trị số nguyên: aha\n",
            "!!! ĐÃ CÓ LỖI!!! Vui lòng kiểm tra giá trị nhập!\n",
            "Nhập giá trị số nguyên: -7\n",
            "!!! Phải nhập giá trị NGUYÊN DƯƠNG !!!\n",
            "Nhập giá trị số nguyên: 4.5\n",
            "!!! ĐÃ CÓ LỖI!!! Vui lòng kiểm tra giá trị nhập!\n",
            "Nhập giá trị số nguyên: 12\n",
            "Hình thoi 13x13:\n",
            "            * \n",
            "\n",
            "          * * * \n",
            "\n",
            "        * * * * * \n",
            "\n",
            "      * * * * * * * \n",
            "\n",
            "    * * * * * * * * * \n",
            "\n",
            "  * * * * * * * * * * * \n",
            "\n",
            "* * * * * * * * * * * * * \n",
            "\n",
            "  * * * * * * * * * * * \n",
            "\n",
            "    * * * * * * * * * \n",
            "\n",
            "      * * * * * * * \n",
            "\n",
            "        * * * * * \n",
            "\n",
            "          * * * \n",
            "\n",
            "            * \n",
            "\n"
          ]
        }
      ],
      "source": [
        "# 🛠️ Skeleton: Vẽ hình thoi\n",
        "def read_positive_odd():\n",
        "  while True:\n",
        "    try:\n",
        "      n = int(input(\"Nhập giá trị số nguyên: \"))\n",
        "    except ValueError:\n",
        "      print('!!! ĐÃ CÓ LỖI!!! Vui lòng kiểm tra giá trị nhập!')\n",
        "      continue\n",
        "    if n <= 0:\n",
        "      print('!!! Phải nhập giá trị NGUYÊN DƯƠNG !!!')\n",
        "      continue\n",
        "    if n % 2 == 0:\n",
        "      n += 1\n",
        "    return n\n",
        "\n",
        "def draw_rhombus(n):\n",
        "  for i in range(round(n/2)+1):\n",
        "    print((n - 2*i -1) * ' ' + (2*i + 1) * '* ')\n",
        "    print(\"\")\n",
        "  for j in range(round(n/2)):\n",
        "    print((2*j + 2) * \" \" + (n - 2*j - 2) * \"* \")\n",
        "    print(\"\")\n",
        "\n",
        "#TODO: Gọi read_positive_odd và draw_rhombus để chạy chương trình\n",
        "n = read_positive_odd()\n",
        "print(f'Hình thoi {n}x{n}:')\n",
        "draw_rhombus(n)\n"
      ]
    },
    {
      "cell_type": "markdown",
      "id": "3e8f4217",
      "metadata": {
        "id": "3e8f4217"
      },
      "source": [
        "### Bài 3: Statistical Analysis Project ⭐\n",
        "#### Yêu cầu\n",
        "- Input: điểm của nhiều môn (Toán, Lý, Hóa, Anh, Văn) cho nhiều học sinh.\n",
        "- Tính mean, median, mode, std cho mỗi môn.\n",
        "- Tính mean GPA cho từng học sinh.\n",
        "- Tính hệ số tương quan giữa các môn.\n",
        "- Vẽ histogram cho mỗi môn, bar chart điểm trung bình từng môn, scatter plot thể hiện tương quan hai môn.\n",
        "#### Gợi ý kỹ năng\n",
        "- Sử dụng NumPy arrays, `statistics`, `numpy.corrcoef`, `matplotlib`."
      ]
    },
    {
      "cell_type": "code",
      "execution_count": null,
      "id": "d5df8a2b",
      "metadata": {
        "id": "d5df8a2b"
      },
      "outputs": [],
      "source": [
        "# 🛠️ Skeleton: Statistical Analysis Project\n",
        "subjects = [\"Toán\", \"Lý\", \"Hóa\", \"Anh\", \"Văn\"]\n",
        "# TODO: Khởi tạo dữ liệu điểm dạng NumPy array (shape: số_học_sinh x số_môn)\n",
        "data = np.array([])  # Thay bằng dữ liệu của bạn\n",
        "\n",
        "# TODO: Tính mean, median, mode, std cho mỗi môn\n",
        "# Gợi ý: Duyệt qua trục cột (axis=0)\n",
        "\n",
        "# TODO: Tính mean GPA của mỗi học sinh\n",
        "\n",
        "# TODO: Tính ma trận tương quan giữa các môn (np.corrcoef)\n",
        "\n",
        "# TODO: Vẽ histogram, bar chart, scatter plot\n",
        "# Gợi ý: Sử dụng subplot để sắp xếp biểu đồ gọn gàng"
      ]
    }
  ],
  "metadata": {
    "kernelspec": {
      "display_name": ".venv",
      "language": "python",
      "name": "python3"
    },
    "language_info": {
      "codemirror_mode": {
        "name": "ipython",
        "version": 3
      },
      "file_extension": ".py",
      "mimetype": "text/x-python",
      "name": "python",
      "nbconvert_exporter": "python",
      "pygments_lexer": "ipython3",
      "version": "3.11.2"
    },
    "colab": {
      "provenance": [],
      "include_colab_link": true
    }
  },
  "nbformat": 4,
  "nbformat_minor": 5
}